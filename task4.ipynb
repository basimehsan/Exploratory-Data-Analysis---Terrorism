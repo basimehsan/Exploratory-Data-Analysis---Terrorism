{
 "cells": [
  {
   "cell_type": "markdown",
   "id": "2a91a7f3",
   "metadata": {},
   "source": [
    "# Importing Libraries"
   ]
  },
  {
   "cell_type": "markdown",
   "id": "f36d1c1a",
   "metadata": {},
   "source": [
    "import numpy as np\n",
    "import pandas as pd\n",
    "import matplotlib.pyplot as plt\n",
    "import seaborn as sns"
   ]
  },
  {
   "cell_type": "markdown",
   "id": "66056111",
   "metadata": {},
   "source": [
    "# Read File"
   ]
  },
  {
   "cell_type": "code",
   "execution_count": 107,
   "id": "b5ef828d",
   "metadata": {},
   "outputs": [
    {
     "name": "stdout",
     "output_type": "stream",
     "text": [
      "   iyear  imonth  iday         country_txt                   region_txt  \\\n",
      "0   1970       7     2  Dominican Republic  Central America & Caribbean   \n",
      "1   1970       0     0              Mexico                North America   \n",
      "2   1970       1     0         Philippines               Southeast Asia   \n",
      "3   1970       1     0              Greece               Western Europe   \n",
      "4   1970       1     0               Japan                    East Asia   \n",
      "\n",
      "            city  success  suicide                 attacktype1_txt  \\\n",
      "0  Santo Domingo        1        0                   Assassination   \n",
      "1    Mexico city        1        0     Hostage Taking (Kidnapping)   \n",
      "2        Unknown        1        0                   Assassination   \n",
      "3         Athens        1        0               Bombing/Explosion   \n",
      "4        Fukouka        1        0  Facility/Infrastructure Attack   \n",
      "\n",
      "                 targtype1_txt weaptype1_txt  ransomamt  \n",
      "0  Private Citizens & Property       Unknown        NaN  \n",
      "1      Government (Diplomatic)       Unknown   800000.0  \n",
      "2          Journalists & Media       Unknown        NaN  \n",
      "3      Government (Diplomatic)    Explosives        NaN  \n",
      "4      Government (Diplomatic)    Incendiary        NaN  \n"
     ]
    }
   ],
   "source": [
    "terrorism = pd.read_csv('globalterrorismdb_0718dist.csv', encoding = \"ISO-8859-1\", usecols = ['iyear','imonth','iday',\n",
    "'country_txt','region_txt','city','success','suicide','attacktype1_txt','targtype1_txt','weaptype1_txt','ransomamt'])\n",
    "terrorism_df = pd.DataFrame(terrorism)\n",
    "print(terrorism.head())"
   ]
  },
  {
   "cell_type": "markdown",
   "id": "01c3bd59",
   "metadata": {},
   "source": [
    "# .describe()"
   ]
  },
  {
   "cell_type": "code",
   "execution_count": 7,
   "id": "f6721f8b",
   "metadata": {},
   "outputs": [
    {
     "data": {
      "text/html": [
       "<div>\n",
       "<style scoped>\n",
       "    .dataframe tbody tr th:only-of-type {\n",
       "        vertical-align: middle;\n",
       "    }\n",
       "\n",
       "    .dataframe tbody tr th {\n",
       "        vertical-align: top;\n",
       "    }\n",
       "\n",
       "    .dataframe thead th {\n",
       "        text-align: right;\n",
       "    }\n",
       "</style>\n",
       "<table border=\"1\" class=\"dataframe\">\n",
       "  <thead>\n",
       "    <tr style=\"text-align: right;\">\n",
       "      <th></th>\n",
       "      <th>iyear</th>\n",
       "      <th>imonth</th>\n",
       "      <th>iday</th>\n",
       "      <th>success</th>\n",
       "      <th>suicide</th>\n",
       "      <th>ransomamt</th>\n",
       "    </tr>\n",
       "  </thead>\n",
       "  <tbody>\n",
       "    <tr>\n",
       "      <th>count</th>\n",
       "      <td>181691.000000</td>\n",
       "      <td>181691.000000</td>\n",
       "      <td>181691.000000</td>\n",
       "      <td>181691.000000</td>\n",
       "      <td>181691.000000</td>\n",
       "      <td>1.350000e+03</td>\n",
       "    </tr>\n",
       "    <tr>\n",
       "      <th>mean</th>\n",
       "      <td>2002.638997</td>\n",
       "      <td>6.467277</td>\n",
       "      <td>15.505644</td>\n",
       "      <td>0.889598</td>\n",
       "      <td>0.036507</td>\n",
       "      <td>3.172530e+06</td>\n",
       "    </tr>\n",
       "    <tr>\n",
       "      <th>std</th>\n",
       "      <td>13.259430</td>\n",
       "      <td>3.388303</td>\n",
       "      <td>8.814045</td>\n",
       "      <td>0.313391</td>\n",
       "      <td>0.187549</td>\n",
       "      <td>3.021157e+07</td>\n",
       "    </tr>\n",
       "    <tr>\n",
       "      <th>min</th>\n",
       "      <td>1970.000000</td>\n",
       "      <td>0.000000</td>\n",
       "      <td>0.000000</td>\n",
       "      <td>0.000000</td>\n",
       "      <td>0.000000</td>\n",
       "      <td>-9.900000e+01</td>\n",
       "    </tr>\n",
       "    <tr>\n",
       "      <th>25%</th>\n",
       "      <td>1991.000000</td>\n",
       "      <td>4.000000</td>\n",
       "      <td>8.000000</td>\n",
       "      <td>1.000000</td>\n",
       "      <td>0.000000</td>\n",
       "      <td>0.000000e+00</td>\n",
       "    </tr>\n",
       "    <tr>\n",
       "      <th>50%</th>\n",
       "      <td>2009.000000</td>\n",
       "      <td>6.000000</td>\n",
       "      <td>15.000000</td>\n",
       "      <td>1.000000</td>\n",
       "      <td>0.000000</td>\n",
       "      <td>1.500000e+04</td>\n",
       "    </tr>\n",
       "    <tr>\n",
       "      <th>75%</th>\n",
       "      <td>2014.000000</td>\n",
       "      <td>9.000000</td>\n",
       "      <td>23.000000</td>\n",
       "      <td>1.000000</td>\n",
       "      <td>0.000000</td>\n",
       "      <td>4.000000e+05</td>\n",
       "    </tr>\n",
       "    <tr>\n",
       "      <th>max</th>\n",
       "      <td>2017.000000</td>\n",
       "      <td>12.000000</td>\n",
       "      <td>31.000000</td>\n",
       "      <td>1.000000</td>\n",
       "      <td>1.000000</td>\n",
       "      <td>1.000000e+09</td>\n",
       "    </tr>\n",
       "  </tbody>\n",
       "</table>\n",
       "</div>"
      ],
      "text/plain": [
       "               iyear         imonth           iday        success  \\\n",
       "count  181691.000000  181691.000000  181691.000000  181691.000000   \n",
       "mean     2002.638997       6.467277      15.505644       0.889598   \n",
       "std        13.259430       3.388303       8.814045       0.313391   \n",
       "min      1970.000000       0.000000       0.000000       0.000000   \n",
       "25%      1991.000000       4.000000       8.000000       1.000000   \n",
       "50%      2009.000000       6.000000      15.000000       1.000000   \n",
       "75%      2014.000000       9.000000      23.000000       1.000000   \n",
       "max      2017.000000      12.000000      31.000000       1.000000   \n",
       "\n",
       "             suicide     ransomamt  \n",
       "count  181691.000000  1.350000e+03  \n",
       "mean        0.036507  3.172530e+06  \n",
       "std         0.187549  3.021157e+07  \n",
       "min         0.000000 -9.900000e+01  \n",
       "25%         0.000000  0.000000e+00  \n",
       "50%         0.000000  1.500000e+04  \n",
       "75%         0.000000  4.000000e+05  \n",
       "max         1.000000  1.000000e+09  "
      ]
     },
     "execution_count": 7,
     "metadata": {},
     "output_type": "execute_result"
    }
   ],
   "source": [
    "terrorism_df.describe()"
   ]
  },
  {
   "cell_type": "code",
   "execution_count": 9,
   "id": "fb80b2d0",
   "metadata": {},
   "outputs": [
    {
     "data": {
      "text/plain": [
       "array(['Unknown', 'Explosives', 'Incendiary', 'Firearms', 'Chemical',\n",
       "       'Melee', 'Sabotage Equipment',\n",
       "       'Vehicle (not to include vehicle-borne explosives, i.e., car or truck bombs)',\n",
       "       'Fake Weapons', 'Radiological', 'Other', 'Biological'],\n",
       "      dtype=object)"
      ]
     },
     "execution_count": 9,
     "metadata": {},
     "output_type": "execute_result"
    }
   ],
   "source": [
    "terrorism_df['weaptype1_txt'].unique()"
   ]
  },
  {
   "cell_type": "code",
   "execution_count": 10,
   "id": "52d3cd5a",
   "metadata": {},
   "outputs": [
    {
     "data": {
      "text/plain": [
       "array(['Private Citizens & Property', 'Government (Diplomatic)',\n",
       "       'Journalists & Media', 'Police', 'Utilities', 'Military',\n",
       "       'Government (General)', 'Airports & Aircraft', 'Business',\n",
       "       'Educational Institution', 'Violent Political Party',\n",
       "       'Religious Figures/Institutions', 'Unknown', 'Transportation',\n",
       "       'Tourists', 'NGO', 'Telecommunication', 'Food or Water Supply',\n",
       "       'Terrorists/Non-State Militia', 'Other', 'Maritime',\n",
       "       'Abortion Related'], dtype=object)"
      ]
     },
     "execution_count": 10,
     "metadata": {},
     "output_type": "execute_result"
    }
   ],
   "source": [
    "terrorism_df['targtype1_txt'].unique()"
   ]
  },
  {
   "cell_type": "markdown",
   "id": "916b595f",
   "metadata": {},
   "source": [
    "# Countries by Terrorist Attacks(Descending)"
   ]
  },
  {
   "cell_type": "code",
   "execution_count": 11,
   "id": "291bd336",
   "metadata": {},
   "outputs": [
    {
     "data": {
      "text/plain": [
       "Iraq                   24636\n",
       "Pakistan               14368\n",
       "Afghanistan            12731\n",
       "India                  11960\n",
       "Colombia                8306\n",
       "                       ...  \n",
       "International              1\n",
       "Wallis and Futuna          1\n",
       "South Vietnam              1\n",
       "Andorra                    1\n",
       "Antigua and Barbuda        1\n",
       "Name: country_txt, Length: 205, dtype: int64"
      ]
     },
     "execution_count": 11,
     "metadata": {},
     "output_type": "execute_result"
    }
   ],
   "source": [
    "terrorism_df['country_txt'].value_counts()"
   ]
  },
  {
   "cell_type": "markdown",
   "id": "3baf9a83",
   "metadata": {},
   "source": [
    "# Regions by Terrorist Attacks(Descending)"
   ]
  },
  {
   "cell_type": "code",
   "execution_count": 12,
   "id": "5efa0342",
   "metadata": {},
   "outputs": [
    {
     "data": {
      "text/plain": [
       "Middle East & North Africa     50474\n",
       "South Asia                     44974\n",
       "South America                  18978\n",
       "Sub-Saharan Africa             17550\n",
       "Western Europe                 16639\n",
       "Southeast Asia                 12485\n",
       "Central America & Caribbean    10344\n",
       "Eastern Europe                  5144\n",
       "North America                   3456\n",
       "East Asia                        802\n",
       "Central Asia                     563\n",
       "Australasia & Oceania            282\n",
       "Name: region_txt, dtype: int64"
      ]
     },
     "execution_count": 12,
     "metadata": {},
     "output_type": "execute_result"
    }
   ],
   "source": [
    "terrorism_df['region_txt'].value_counts()"
   ]
  },
  {
   "cell_type": "markdown",
   "id": "59575c65",
   "metadata": {},
   "source": [
    "# Cities by Terrorist Attacks(Descending)"
   ]
  },
  {
   "cell_type": "code",
   "execution_count": 50,
   "id": "aa026980",
   "metadata": {},
   "outputs": [
    {
     "data": {
      "text/plain": [
       "Unknown      9775\n",
       "Baghdad      7589\n",
       "Karachi      2652\n",
       "Lima         2359\n",
       "Mosul        2265\n",
       "             ... \n",
       "Hotwag          1\n",
       "Ostend          1\n",
       "Balughata       1\n",
       "Jikoyi          1\n",
       "Kubentog        1\n",
       "Name: city, Length: 36674, dtype: int64"
      ]
     },
     "execution_count": 50,
     "metadata": {},
     "output_type": "execute_result"
    }
   ],
   "source": [
    "df_city_counts = terrorism_df['city'].value_counts()\n",
    "df_city_counts"
   ]
  },
  {
   "cell_type": "markdown",
   "id": "e3be255c",
   "metadata": {},
   "source": [
    "# Cities by Successfull Terrorist Attacks"
   ]
  },
  {
   "cell_type": "code",
   "execution_count": 79,
   "id": "7e05ff01",
   "metadata": {},
   "outputs": [
    {
     "data": {
      "text/html": [
       "<div>\n",
       "<style scoped>\n",
       "    .dataframe tbody tr th:only-of-type {\n",
       "        vertical-align: middle;\n",
       "    }\n",
       "\n",
       "    .dataframe tbody tr th {\n",
       "        vertical-align: top;\n",
       "    }\n",
       "\n",
       "    .dataframe thead th {\n",
       "        text-align: right;\n",
       "    }\n",
       "</style>\n",
       "<table border=\"1\" class=\"dataframe\">\n",
       "  <thead>\n",
       "    <tr style=\"text-align: right;\">\n",
       "      <th></th>\n",
       "      <th>success</th>\n",
       "    </tr>\n",
       "    <tr>\n",
       "      <th>city</th>\n",
       "      <th></th>\n",
       "    </tr>\n",
       "  </thead>\n",
       "  <tbody>\n",
       "    <tr>\n",
       "      <th>Unknown</th>\n",
       "      <td>8705</td>\n",
       "    </tr>\n",
       "    <tr>\n",
       "      <th>Baghdad</th>\n",
       "      <td>7226</td>\n",
       "    </tr>\n",
       "    <tr>\n",
       "      <th>Karachi</th>\n",
       "      <td>2428</td>\n",
       "    </tr>\n",
       "    <tr>\n",
       "      <th>Lima</th>\n",
       "      <td>2176</td>\n",
       "    </tr>\n",
       "    <tr>\n",
       "      <th>Mosul</th>\n",
       "      <td>1902</td>\n",
       "    </tr>\n",
       "    <tr>\n",
       "      <th>...</th>\n",
       "      <td>...</td>\n",
       "    </tr>\n",
       "    <tr>\n",
       "      <th>Holanda Alta</th>\n",
       "      <td>0</td>\n",
       "    </tr>\n",
       "    <tr>\n",
       "      <th>Tolbung Bangla</th>\n",
       "      <td>0</td>\n",
       "    </tr>\n",
       "    <tr>\n",
       "      <th>Datu Anggal Midtimbang district</th>\n",
       "      <td>0</td>\n",
       "    </tr>\n",
       "    <tr>\n",
       "      <th>Bangonay</th>\n",
       "      <td>0</td>\n",
       "    </tr>\n",
       "    <tr>\n",
       "      <th>Balipara</th>\n",
       "      <td>0</td>\n",
       "    </tr>\n",
       "  </tbody>\n",
       "</table>\n",
       "<p>36674 rows × 1 columns</p>\n",
       "</div>"
      ],
      "text/plain": [
       "                                 success\n",
       "city                                    \n",
       "Unknown                             8705\n",
       "Baghdad                             7226\n",
       "Karachi                             2428\n",
       "Lima                                2176\n",
       "Mosul                               1902\n",
       "...                                  ...\n",
       "Holanda Alta                           0\n",
       "Tolbung Bangla                         0\n",
       "Datu Anggal Midtimbang district        0\n",
       "Bangonay                               0\n",
       "Balipara                               0\n",
       "\n",
       "[36674 rows x 1 columns]"
      ]
     },
     "execution_count": 79,
     "metadata": {},
     "output_type": "execute_result"
    }
   ],
   "source": [
    "counts_by_city_df = terrorism_df.groupby('city')['success'].sum()\n",
    "counts_by_city_df = pd.DataFrame(counts_by_city_df)\n",
    "counts_by_city_df = counts_by_city_df.sort_values(by = 'success', ascending = False)\n",
    "counts_by_city_df"
   ]
  },
  {
   "cell_type": "code",
   "execution_count": 15,
   "id": "5c7f0e4d",
   "metadata": {},
   "outputs": [
    {
     "data": {
      "text/plain": [
       "Bombing/Explosion                      88255\n",
       "Armed Assault                          42669\n",
       "Assassination                          19312\n",
       "Hostage Taking (Kidnapping)            11158\n",
       "Facility/Infrastructure Attack         10356\n",
       "Unknown                                 7276\n",
       "Unarmed Assault                         1015\n",
       "Hostage Taking (Barricade Incident)      991\n",
       "Hijacking                                659\n",
       "Name: attacktype1_txt, dtype: int64"
      ]
     },
     "execution_count": 15,
     "metadata": {},
     "output_type": "execute_result"
    }
   ],
   "source": []
  },
  {
   "cell_type": "markdown",
   "id": "fab2b4e4",
   "metadata": {},
   "source": [
    "# Terrorist Attacks by Year(Descending)"
   ]
  },
  {
   "cell_type": "code",
   "execution_count": 16,
   "id": "c16bd4b4",
   "metadata": {},
   "outputs": [
    {
     "data": {
      "text/plain": [
       "2014    16903\n",
       "2015    14965\n",
       "2016    13587\n",
       "2013    12036\n",
       "2017    10900\n",
       "2012     8522\n",
       "2011     5076\n",
       "1992     5071\n",
       "2010     4826\n",
       "2008     4805\n",
       "2009     4721\n",
       "1991     4683\n",
       "1989     4324\n",
       "1990     3887\n",
       "1988     3721\n",
       "1984     3495\n",
       "1994     3456\n",
       "2007     3242\n",
       "1997     3197\n",
       "1987     3183\n",
       "1995     3081\n",
       "1996     3058\n",
       "1985     2915\n",
       "1983     2870\n",
       "1986     2860\n",
       "2006     2758\n",
       "1979     2662\n",
       "1980     2662\n",
       "1981     2586\n",
       "1982     2544\n",
       "2005     2017\n",
       "2001     1906\n",
       "2000     1814\n",
       "1978     1526\n",
       "1999     1395\n",
       "2002     1333\n",
       "1977     1319\n",
       "2003     1278\n",
       "2004     1166\n",
       "1998      934\n",
       "1976      923\n",
       "1975      740\n",
       "1970      651\n",
       "1974      581\n",
       "1972      568\n",
       "1973      473\n",
       "1971      471\n",
       "Name: iyear, dtype: int64"
      ]
     },
     "execution_count": 16,
     "metadata": {},
     "output_type": "execute_result"
    }
   ],
   "source": [
    "terrorism_df['iyear'].value_counts()"
   ]
  },
  {
   "cell_type": "markdown",
   "id": "41314820",
   "metadata": {},
   "source": [
    "# Terrorist Attacks by Month(Descending)"
   ]
  },
  {
   "cell_type": "code",
   "execution_count": 17,
   "id": "a0f6ec51",
   "metadata": {},
   "outputs": [
    {
     "data": {
      "text/plain": [
       "5     16875\n",
       "7     16268\n",
       "8     15800\n",
       "10    15563\n",
       "6     15359\n",
       "3     15257\n",
       "4     15152\n",
       "1     14936\n",
       "11    14906\n",
       "9     14180\n",
       "2     13879\n",
       "12    13496\n",
       "0        20\n",
       "Name: imonth, dtype: int64"
      ]
     },
     "execution_count": 17,
     "metadata": {},
     "output_type": "execute_result"
    }
   ],
   "source": [
    "terrorism_df['imonth'].value_counts()"
   ]
  },
  {
   "cell_type": "markdown",
   "id": "900f2894",
   "metadata": {},
   "source": [
    "# Box Plot of Terrorist Atacks by Year"
   ]
  },
  {
   "cell_type": "code",
   "execution_count": 22,
   "id": "9fd684c8",
   "metadata": {
    "scrolled": false
   },
   "outputs": [
    {
     "name": "stderr",
     "output_type": "stream",
     "text": [
      "c:\\users\\hp\\appdata\\local\\programs\\python\\python39\\lib\\site-packages\\seaborn\\_decorators.py:36: FutureWarning: Pass the following variable as a keyword arg: x. From version 0.12, the only valid positional argument will be `data`, and passing other arguments without an explicit keyword will result in an error or misinterpretation.\n",
      "  warnings.warn(\n"
     ]
    },
    {
     "data": {
      "text/plain": [
       "<AxesSubplot:xlabel='iyear'>"
      ]
     },
     "execution_count": 22,
     "metadata": {},
     "output_type": "execute_result"
    },
    {
     "data": {
      "image/png": "[encoded data removed]",
      "text/plain": [
       "<Figure size 432x288 with 1 Axes>"
      ]
     },
     "metadata": {
      "needs_background": "light"
     },
     "output_type": "display_data"
    }
   ],
   "source": [
    "sns.boxplot(terrorism_df['iyear'])"
   ]
  },
  {
   "cell_type": "markdown",
   "id": "3169bf3f",
   "metadata": {},
   "source": [
    "# Distribution Plot of Terrorist Atacks by Year"
   ]
  },
  {
   "cell_type": "code",
   "execution_count": 121,
   "id": "9a5fa52b",
   "metadata": {},
   "outputs": [
    {
     "name": "stderr",
     "output_type": "stream",
     "text": [
      "c:\\users\\hp\\appdata\\local\\programs\\python\\python39\\lib\\site-packages\\seaborn\\distributions.py:2557: FutureWarning: `distplot` is a deprecated function and will be removed in a future version. Please adapt your code to use either `displot` (a figure-level function with similar flexibility) or `histplot` (an axes-level function for histograms).\n",
      "  warnings.warn(msg, FutureWarning)\n"
     ]
    },
    {
     "data": {
      "text/plain": [
       "<AxesSubplot:xlabel='iyear', ylabel='Density'>"
      ]
     },
     "execution_count": 121,
     "metadata": {},
     "output_type": "execute_result"
    },
    {
     "data": {
      "image/png": "[encoded data removed]",
      "text/plain": [
       "<Figure size 432x288 with 1 Axes>"
      ]
     },
     "metadata": {
      "needs_background": "light"
     },
     "output_type": "display_data"
    }
   ],
   "source": [
    "sns.distplot(terrorism_df['iyear'])"
   ]
  },
  {
   "cell_type": "markdown",
   "id": "58db59a4",
   "metadata": {},
   "source": [
    "# Graph b/w Countries and number of attacks in each of them "
   ]
  },
  {
   "cell_type": "code",
   "execution_count": 119,
   "id": "40f03b00",
   "metadata": {},
   "outputs": [
    {
     "data": {
      "text/html": [
       "<div>\n",
       "<style scoped>\n",
       "    .dataframe tbody tr th:only-of-type {\n",
       "        vertical-align: middle;\n",
       "    }\n",
       "\n",
       "    .dataframe tbody tr th {\n",
       "        vertical-align: top;\n",
       "    }\n",
       "\n",
       "    .dataframe thead th {\n",
       "        text-align: right;\n",
       "    }\n",
       "</style>\n",
       "<table border=\"1\" class=\"dataframe\">\n",
       "  <thead>\n",
       "    <tr style=\"text-align: right;\">\n",
       "      <th></th>\n",
       "      <th>iyear</th>\n",
       "      <th>imonth</th>\n",
       "      <th>iday</th>\n",
       "      <th>region_txt</th>\n",
       "      <th>city</th>\n",
       "      <th>success</th>\n",
       "      <th>suicide</th>\n",
       "      <th>attacktype1_txt</th>\n",
       "      <th>targtype1_txt</th>\n",
       "      <th>weaptype1_txt</th>\n",
       "      <th>ransomamt</th>\n",
       "      <th>attack each year</th>\n",
       "    </tr>\n",
       "    <tr>\n",
       "      <th>country_txt</th>\n",
       "      <th></th>\n",
       "      <th></th>\n",
       "      <th></th>\n",
       "      <th></th>\n",
       "      <th></th>\n",
       "      <th></th>\n",
       "      <th></th>\n",
       "      <th></th>\n",
       "      <th></th>\n",
       "      <th></th>\n",
       "      <th></th>\n",
       "      <th></th>\n",
       "    </tr>\n",
       "  </thead>\n",
       "  <tbody>\n",
       "    <tr>\n",
       "      <th>Afghanistan</th>\n",
       "      <td>12731</td>\n",
       "      <td>12731</td>\n",
       "      <td>12731</td>\n",
       "      <td>12731</td>\n",
       "      <td>12592</td>\n",
       "      <td>12731</td>\n",
       "      <td>12731</td>\n",
       "      <td>12731</td>\n",
       "      <td>12731</td>\n",
       "      <td>12731</td>\n",
       "      <td>29</td>\n",
       "      <td>0</td>\n",
       "    </tr>\n",
       "    <tr>\n",
       "      <th>Albania</th>\n",
       "      <td>80</td>\n",
       "      <td>80</td>\n",
       "      <td>80</td>\n",
       "      <td>80</td>\n",
       "      <td>80</td>\n",
       "      <td>80</td>\n",
       "      <td>80</td>\n",
       "      <td>80</td>\n",
       "      <td>80</td>\n",
       "      <td>80</td>\n",
       "      <td>0</td>\n",
       "      <td>0</td>\n",
       "    </tr>\n",
       "    <tr>\n",
       "      <th>Algeria</th>\n",
       "      <td>2743</td>\n",
       "      <td>2743</td>\n",
       "      <td>2743</td>\n",
       "      <td>2743</td>\n",
       "      <td>2736</td>\n",
       "      <td>2743</td>\n",
       "      <td>2743</td>\n",
       "      <td>2743</td>\n",
       "      <td>2743</td>\n",
       "      <td>2743</td>\n",
       "      <td>41</td>\n",
       "      <td>0</td>\n",
       "    </tr>\n",
       "    <tr>\n",
       "      <th>Andorra</th>\n",
       "      <td>1</td>\n",
       "      <td>1</td>\n",
       "      <td>1</td>\n",
       "      <td>1</td>\n",
       "      <td>1</td>\n",
       "      <td>1</td>\n",
       "      <td>1</td>\n",
       "      <td>1</td>\n",
       "      <td>1</td>\n",
       "      <td>1</td>\n",
       "      <td>0</td>\n",
       "      <td>0</td>\n",
       "    </tr>\n",
       "    <tr>\n",
       "      <th>Angola</th>\n",
       "      <td>499</td>\n",
       "      <td>499</td>\n",
       "      <td>499</td>\n",
       "      <td>499</td>\n",
       "      <td>499</td>\n",
       "      <td>499</td>\n",
       "      <td>499</td>\n",
       "      <td>499</td>\n",
       "      <td>499</td>\n",
       "      <td>499</td>\n",
       "      <td>1</td>\n",
       "      <td>0</td>\n",
       "    </tr>\n",
       "    <tr>\n",
       "      <th>...</th>\n",
       "      <td>...</td>\n",
       "      <td>...</td>\n",
       "      <td>...</td>\n",
       "      <td>...</td>\n",
       "      <td>...</td>\n",
       "      <td>...</td>\n",
       "      <td>...</td>\n",
       "      <td>...</td>\n",
       "      <td>...</td>\n",
       "      <td>...</td>\n",
       "      <td>...</td>\n",
       "      <td>...</td>\n",
       "    </tr>\n",
       "    <tr>\n",
       "      <th>Yemen</th>\n",
       "      <td>3347</td>\n",
       "      <td>3347</td>\n",
       "      <td>3347</td>\n",
       "      <td>3347</td>\n",
       "      <td>3347</td>\n",
       "      <td>3347</td>\n",
       "      <td>3347</td>\n",
       "      <td>3347</td>\n",
       "      <td>3347</td>\n",
       "      <td>3347</td>\n",
       "      <td>13</td>\n",
       "      <td>0</td>\n",
       "    </tr>\n",
       "    <tr>\n",
       "      <th>Yugoslavia</th>\n",
       "      <td>203</td>\n",
       "      <td>203</td>\n",
       "      <td>203</td>\n",
       "      <td>203</td>\n",
       "      <td>203</td>\n",
       "      <td>203</td>\n",
       "      <td>203</td>\n",
       "      <td>203</td>\n",
       "      <td>203</td>\n",
       "      <td>203</td>\n",
       "      <td>0</td>\n",
       "      <td>1</td>\n",
       "    </tr>\n",
       "    <tr>\n",
       "      <th>Zaire</th>\n",
       "      <td>50</td>\n",
       "      <td>50</td>\n",
       "      <td>50</td>\n",
       "      <td>50</td>\n",
       "      <td>50</td>\n",
       "      <td>50</td>\n",
       "      <td>50</td>\n",
       "      <td>50</td>\n",
       "      <td>50</td>\n",
       "      <td>50</td>\n",
       "      <td>0</td>\n",
       "      <td>0</td>\n",
       "    </tr>\n",
       "    <tr>\n",
       "      <th>Zambia</th>\n",
       "      <td>62</td>\n",
       "      <td>62</td>\n",
       "      <td>62</td>\n",
       "      <td>62</td>\n",
       "      <td>62</td>\n",
       "      <td>62</td>\n",
       "      <td>62</td>\n",
       "      <td>62</td>\n",
       "      <td>62</td>\n",
       "      <td>62</td>\n",
       "      <td>0</td>\n",
       "      <td>0</td>\n",
       "    </tr>\n",
       "    <tr>\n",
       "      <th>Zimbabwe</th>\n",
       "      <td>101</td>\n",
       "      <td>101</td>\n",
       "      <td>101</td>\n",
       "      <td>101</td>\n",
       "      <td>101</td>\n",
       "      <td>101</td>\n",
       "      <td>101</td>\n",
       "      <td>101</td>\n",
       "      <td>101</td>\n",
       "      <td>101</td>\n",
       "      <td>0</td>\n",
       "      <td>0</td>\n",
       "    </tr>\n",
       "  </tbody>\n",
       "</table>\n",
       "<p>205 rows × 12 columns</p>\n",
       "</div>"
      ],
      "text/plain": [
       "             iyear  imonth   iday  region_txt   city  success  suicide  \\\n",
       "country_txt                                                              \n",
       "Afghanistan  12731   12731  12731       12731  12592    12731    12731   \n",
       "Albania         80      80     80          80     80       80       80   \n",
       "Algeria       2743    2743   2743        2743   2736     2743     2743   \n",
       "Andorra          1       1      1           1      1        1        1   \n",
       "Angola         499     499    499         499    499      499      499   \n",
       "...            ...     ...    ...         ...    ...      ...      ...   \n",
       "Yemen         3347    3347   3347        3347   3347     3347     3347   \n",
       "Yugoslavia     203     203    203         203    203      203      203   \n",
       "Zaire           50      50     50          50     50       50       50   \n",
       "Zambia          62      62     62          62     62       62       62   \n",
       "Zimbabwe       101     101    101         101    101      101      101   \n",
       "\n",
       "             attacktype1_txt  targtype1_txt  weaptype1_txt  ransomamt  \\\n",
       "country_txt                                                             \n",
       "Afghanistan            12731          12731          12731         29   \n",
       "Albania                   80             80             80          0   \n",
       "Algeria                 2743           2743           2743         41   \n",
       "Andorra                    1              1              1          0   \n",
       "Angola                   499            499            499          1   \n",
       "...                      ...            ...            ...        ...   \n",
       "Yemen                   3347           3347           3347         13   \n",
       "Yugoslavia               203            203            203          0   \n",
       "Zaire                     50             50             50          0   \n",
       "Zambia                    62             62             62          0   \n",
       "Zimbabwe                 101            101            101          0   \n",
       "\n",
       "             attack each year  \n",
       "country_txt                    \n",
       "Afghanistan                 0  \n",
       "Albania                     0  \n",
       "Algeria                     0  \n",
       "Andorra                     0  \n",
       "Angola                      0  \n",
       "...                       ...  \n",
       "Yemen                       0  \n",
       "Yugoslavia                  1  \n",
       "Zaire                       0  \n",
       "Zambia                      0  \n",
       "Zimbabwe                    0  \n",
       "\n",
       "[205 rows x 12 columns]"
      ]
     },
     "execution_count": 119,
     "metadata": {},
     "output_type": "execute_result"
    }
   ],
   "source": [
    "attacks_by_country = terrorism_df.groupby('country_txt').count()\n",
    "attacks_by_country\n"
   ]
  },
  {
   "cell_type": "code",
   "execution_count": 120,
   "id": "c973fca8",
   "metadata": {},
   "outputs": [
    {
     "data": {
      "image/png": "[encoded data removed]",
      "text/plain": [
       "<Figure size 432x288 with 1 Axes>"
      ]
     },
     "metadata": {
      "needs_background": "light"
     },
     "output_type": "display_data"
    }
   ],
   "source": [
    "plt.bar(attacks_by_country.index,attacks_by_country['iyear'])\n",
    "plt.show()"
   ]
  },
  {
   "cell_type": "markdown",
   "id": "72b37156",
   "metadata": {},
   "source": [
    "# Attacks Successfull and Not Successful"
   ]
  },
  {
   "cell_type": "code",
   "execution_count": 102,
   "id": "f60b1838",
   "metadata": {},
   "outputs": [
    {
     "data": {
      "text/html": [
       "<div>\n",
       "<style scoped>\n",
       "    .dataframe tbody tr th:only-of-type {\n",
       "        vertical-align: middle;\n",
       "    }\n",
       "\n",
       "    .dataframe tbody tr th {\n",
       "        vertical-align: top;\n",
       "    }\n",
       "\n",
       "    .dataframe thead th {\n",
       "        text-align: right;\n",
       "    }\n",
       "</style>\n",
       "<table border=\"1\" class=\"dataframe\">\n",
       "  <thead>\n",
       "    <tr style=\"text-align: right;\">\n",
       "      <th></th>\n",
       "      <th>iyear</th>\n",
       "      <th>imonth</th>\n",
       "      <th>iday</th>\n",
       "      <th>country_txt</th>\n",
       "      <th>region_txt</th>\n",
       "      <th>city</th>\n",
       "      <th>suicide</th>\n",
       "      <th>attacktype1_txt</th>\n",
       "      <th>targtype1_txt</th>\n",
       "      <th>weaptype1_txt</th>\n",
       "      <th>ransomamt</th>\n",
       "    </tr>\n",
       "    <tr>\n",
       "      <th>success</th>\n",
       "      <th></th>\n",
       "      <th></th>\n",
       "      <th></th>\n",
       "      <th></th>\n",
       "      <th></th>\n",
       "      <th></th>\n",
       "      <th></th>\n",
       "      <th></th>\n",
       "      <th></th>\n",
       "      <th></th>\n",
       "      <th></th>\n",
       "    </tr>\n",
       "  </thead>\n",
       "  <tbody>\n",
       "    <tr>\n",
       "      <th>0</th>\n",
       "      <td>20059</td>\n",
       "      <td>20059</td>\n",
       "      <td>20059</td>\n",
       "      <td>20059</td>\n",
       "      <td>20059</td>\n",
       "      <td>20031</td>\n",
       "      <td>20059</td>\n",
       "      <td>20059</td>\n",
       "      <td>20059</td>\n",
       "      <td>20059</td>\n",
       "      <td>43</td>\n",
       "    </tr>\n",
       "    <tr>\n",
       "      <th>1</th>\n",
       "      <td>161632</td>\n",
       "      <td>161632</td>\n",
       "      <td>161632</td>\n",
       "      <td>161632</td>\n",
       "      <td>161632</td>\n",
       "      <td>161226</td>\n",
       "      <td>161632</td>\n",
       "      <td>161632</td>\n",
       "      <td>161632</td>\n",
       "      <td>161632</td>\n",
       "      <td>1307</td>\n",
       "    </tr>\n",
       "  </tbody>\n",
       "</table>\n",
       "</div>"
      ],
      "text/plain": [
       "          iyear  imonth    iday  country_txt  region_txt    city  suicide  \\\n",
       "success                                                                     \n",
       "0         20059   20059   20059        20059       20059   20031    20059   \n",
       "1        161632  161632  161632       161632      161632  161226   161632   \n",
       "\n",
       "         attacktype1_txt  targtype1_txt  weaptype1_txt  ransomamt  \n",
       "success                                                            \n",
       "0                  20059          20059          20059         43  \n",
       "1                 161632         161632         161632       1307  "
      ]
     },
     "execution_count": 102,
     "metadata": {},
     "output_type": "execute_result"
    }
   ],
   "source": [
    "terrorism_df.groupby('success').count()"
   ]
  },
  {
   "cell_type": "markdown",
   "id": "ddabdadf",
   "metadata": {},
   "source": [
    "# Attacks each year"
   ]
  },
  {
   "cell_type": "code",
   "execution_count": 115,
   "id": "17ace0a9",
   "metadata": {},
   "outputs": [
    {
     "name": "stdout",
     "output_type": "stream",
     "text": [
      "Int64Index([1970, 1971, 1972, 1973, 1974, 1975, 1976, 1977, 1978, 1979, 1980,\n",
      "            1981, 1982, 1983, 1984, 1985, 1986, 1987, 1988, 1989, 1990, 1991,\n",
      "            1992, 1994, 1995, 1996, 1997, 1998, 1999, 2000, 2001, 2002, 2003,\n",
      "            2004, 2005, 2006, 2007, 2008, 2009, 2010, 2011, 2012, 2013, 2014,\n",
      "            2015, 2016, 2017],\n",
      "           dtype='int64', name='iyear') iyear\n",
      "1970      651\n",
      "1971      471\n",
      "1972      568\n",
      "1973      473\n",
      "1974      581\n",
      "1975      740\n",
      "1976      923\n",
      "1977     1319\n",
      "1978     1526\n",
      "1979     2662\n",
      "1980     2662\n",
      "1981     2586\n",
      "1982     2544\n",
      "1983     2870\n",
      "1984     3495\n",
      "1985     2915\n",
      "1986     2860\n",
      "1987     3183\n",
      "1988     3721\n",
      "1989     4324\n",
      "1990     3887\n",
      "1991     4683\n",
      "1992     5071\n",
      "1994     3456\n",
      "1995     3081\n",
      "1996     3058\n",
      "1997     3197\n",
      "1998      934\n",
      "1999     1395\n",
      "2000     1814\n",
      "2001     1906\n",
      "2002     1333\n",
      "2003     1278\n",
      "2004     1166\n",
      "2005     2017\n",
      "2006     2758\n",
      "2007     3242\n",
      "2008     4805\n",
      "2009     4721\n",
      "2010     4826\n",
      "2011     5076\n",
      "2012     8522\n",
      "2013    12036\n",
      "2014    16903\n",
      "2015    14965\n",
      "2016    13587\n",
      "2017    10900\n",
      "Name: attack each year, dtype: int64\n"
     ]
    }
   ],
   "source": [
    "attacks_by_year_df = terrorism_df.groupby('iyear').count()\n",
    "#attacks_by_year_df\n",
    "attacks_by_year_df['attack each year'] = attacks_by_year_df['imonth']\n",
    "print(attacks_by_year_df.index, attacks_by_year_df['attack each year'])"
   ]
  },
  {
   "cell_type": "code",
   "execution_count": 117,
   "id": "d414e486",
   "metadata": {},
   "outputs": [
    {
     "data": {
      "text/plain": [
       "<BarContainer object of 47 artists>"
      ]
     },
     "execution_count": 117,
     "metadata": {},
     "output_type": "execute_result"
    },
    {
     "data": {
      "image/png": "[encoded data removed]",
      "text/plain": [
       "<Figure size 432x288 with 1 Axes>"
      ]
     },
     "metadata": {
      "needs_background": "light"
     },
     "output_type": "display_data"
    }
   ],
   "source": [
    "plt.bar(attacks_by_year_df.index , attacks_by_year_df['attack each year'])"
   ]
  },
  {
   "cell_type": "markdown",
   "id": "ebc56608",
   "metadata": {},
   "source": [
    "# Successful attacks each year"
   ]
  },
  {
   "cell_type": "code",
   "execution_count": 85,
   "id": "2c016b24",
   "metadata": {},
   "outputs": [
    {
     "data": {
      "text/html": [
       "<div>\n",
       "<style scoped>\n",
       "    .dataframe tbody tr th:only-of-type {\n",
       "        vertical-align: middle;\n",
       "    }\n",
       "\n",
       "    .dataframe tbody tr th {\n",
       "        vertical-align: top;\n",
       "    }\n",
       "\n",
       "    .dataframe thead th {\n",
       "        text-align: right;\n",
       "    }\n",
       "</style>\n",
       "<table border=\"1\" class=\"dataframe\">\n",
       "  <thead>\n",
       "    <tr style=\"text-align: right;\">\n",
       "      <th></th>\n",
       "      <th>success</th>\n",
       "    </tr>\n",
       "    <tr>\n",
       "      <th>iyear</th>\n",
       "      <th></th>\n",
       "    </tr>\n",
       "  </thead>\n",
       "  <tbody>\n",
       "    <tr>\n",
       "      <th>1970</th>\n",
       "      <td>549</td>\n",
       "    </tr>\n",
       "    <tr>\n",
       "      <th>1971</th>\n",
       "      <td>420</td>\n",
       "    </tr>\n",
       "    <tr>\n",
       "      <th>1972</th>\n",
       "      <td>452</td>\n",
       "    </tr>\n",
       "    <tr>\n",
       "      <th>1973</th>\n",
       "      <td>433</td>\n",
       "    </tr>\n",
       "    <tr>\n",
       "      <th>1974</th>\n",
       "      <td>545</td>\n",
       "    </tr>\n",
       "    <tr>\n",
       "      <th>1975</th>\n",
       "      <td>705</td>\n",
       "    </tr>\n",
       "    <tr>\n",
       "      <th>1976</th>\n",
       "      <td>861</td>\n",
       "    </tr>\n",
       "    <tr>\n",
       "      <th>1977</th>\n",
       "      <td>1191</td>\n",
       "    </tr>\n",
       "    <tr>\n",
       "      <th>1978</th>\n",
       "      <td>1411</td>\n",
       "    </tr>\n",
       "    <tr>\n",
       "      <th>1979</th>\n",
       "      <td>2408</td>\n",
       "    </tr>\n",
       "    <tr>\n",
       "      <th>1980</th>\n",
       "      <td>2387</td>\n",
       "    </tr>\n",
       "    <tr>\n",
       "      <th>1981</th>\n",
       "      <td>2354</td>\n",
       "    </tr>\n",
       "    <tr>\n",
       "      <th>1982</th>\n",
       "      <td>2373</td>\n",
       "    </tr>\n",
       "    <tr>\n",
       "      <th>1983</th>\n",
       "      <td>2660</td>\n",
       "    </tr>\n",
       "    <tr>\n",
       "      <th>1984</th>\n",
       "      <td>3282</td>\n",
       "    </tr>\n",
       "    <tr>\n",
       "      <th>1985</th>\n",
       "      <td>2727</td>\n",
       "    </tr>\n",
       "    <tr>\n",
       "      <th>1986</th>\n",
       "      <td>2670</td>\n",
       "    </tr>\n",
       "    <tr>\n",
       "      <th>1987</th>\n",
       "      <td>2933</td>\n",
       "    </tr>\n",
       "    <tr>\n",
       "      <th>1988</th>\n",
       "      <td>3440</td>\n",
       "    </tr>\n",
       "    <tr>\n",
       "      <th>1989</th>\n",
       "      <td>4008</td>\n",
       "    </tr>\n",
       "    <tr>\n",
       "      <th>1990</th>\n",
       "      <td>3583</td>\n",
       "    </tr>\n",
       "    <tr>\n",
       "      <th>1991</th>\n",
       "      <td>4299</td>\n",
       "    </tr>\n",
       "    <tr>\n",
       "      <th>1992</th>\n",
       "      <td>4560</td>\n",
       "    </tr>\n",
       "    <tr>\n",
       "      <th>1994</th>\n",
       "      <td>3069</td>\n",
       "    </tr>\n",
       "    <tr>\n",
       "      <th>1995</th>\n",
       "      <td>2794</td>\n",
       "    </tr>\n",
       "    <tr>\n",
       "      <th>1996</th>\n",
       "      <td>2770</td>\n",
       "    </tr>\n",
       "    <tr>\n",
       "      <th>1997</th>\n",
       "      <td>2966</td>\n",
       "    </tr>\n",
       "    <tr>\n",
       "      <th>1998</th>\n",
       "      <td>859</td>\n",
       "    </tr>\n",
       "    <tr>\n",
       "      <th>1999</th>\n",
       "      <td>1237</td>\n",
       "    </tr>\n",
       "    <tr>\n",
       "      <th>2000</th>\n",
       "      <td>1637</td>\n",
       "    </tr>\n",
       "    <tr>\n",
       "      <th>2001</th>\n",
       "      <td>1689</td>\n",
       "    </tr>\n",
       "    <tr>\n",
       "      <th>2002</th>\n",
       "      <td>1213</td>\n",
       "    </tr>\n",
       "    <tr>\n",
       "      <th>2003</th>\n",
       "      <td>1149</td>\n",
       "    </tr>\n",
       "    <tr>\n",
       "      <th>2004</th>\n",
       "      <td>1080</td>\n",
       "    </tr>\n",
       "    <tr>\n",
       "      <th>2005</th>\n",
       "      <td>1910</td>\n",
       "    </tr>\n",
       "    <tr>\n",
       "      <th>2006</th>\n",
       "      <td>2660</td>\n",
       "    </tr>\n",
       "    <tr>\n",
       "      <th>2007</th>\n",
       "      <td>3123</td>\n",
       "    </tr>\n",
       "    <tr>\n",
       "      <th>2008</th>\n",
       "      <td>4402</td>\n",
       "    </tr>\n",
       "    <tr>\n",
       "      <th>2009</th>\n",
       "      <td>4430</td>\n",
       "    </tr>\n",
       "    <tr>\n",
       "      <th>2010</th>\n",
       "      <td>4385</td>\n",
       "    </tr>\n",
       "    <tr>\n",
       "      <th>2011</th>\n",
       "      <td>4606</td>\n",
       "    </tr>\n",
       "    <tr>\n",
       "      <th>2012</th>\n",
       "      <td>7600</td>\n",
       "    </tr>\n",
       "    <tr>\n",
       "      <th>2013</th>\n",
       "      <td>10484</td>\n",
       "    </tr>\n",
       "    <tr>\n",
       "      <th>2014</th>\n",
       "      <td>15015</td>\n",
       "    </tr>\n",
       "    <tr>\n",
       "      <th>2015</th>\n",
       "      <td>12676</td>\n",
       "    </tr>\n",
       "    <tr>\n",
       "      <th>2016</th>\n",
       "      <td>10975</td>\n",
       "    </tr>\n",
       "    <tr>\n",
       "      <th>2017</th>\n",
       "      <td>8652</td>\n",
       "    </tr>\n",
       "  </tbody>\n",
       "</table>\n",
       "</div>"
      ],
      "text/plain": [
       "       success\n",
       "iyear         \n",
       "1970       549\n",
       "1971       420\n",
       "1972       452\n",
       "1973       433\n",
       "1974       545\n",
       "1975       705\n",
       "1976       861\n",
       "1977      1191\n",
       "1978      1411\n",
       "1979      2408\n",
       "1980      2387\n",
       "1981      2354\n",
       "1982      2373\n",
       "1983      2660\n",
       "1984      3282\n",
       "1985      2727\n",
       "1986      2670\n",
       "1987      2933\n",
       "1988      3440\n",
       "1989      4008\n",
       "1990      3583\n",
       "1991      4299\n",
       "1992      4560\n",
       "1994      3069\n",
       "1995      2794\n",
       "1996      2770\n",
       "1997      2966\n",
       "1998       859\n",
       "1999      1237\n",
       "2000      1637\n",
       "2001      1689\n",
       "2002      1213\n",
       "2003      1149\n",
       "2004      1080\n",
       "2005      1910\n",
       "2006      2660\n",
       "2007      3123\n",
       "2008      4402\n",
       "2009      4430\n",
       "2010      4385\n",
       "2011      4606\n",
       "2012      7600\n",
       "2013     10484\n",
       "2014     15015\n",
       "2015     12676\n",
       "2016     10975\n",
       "2017      8652"
      ]
     },
     "execution_count": 85,
     "metadata": {},
     "output_type": "execute_result"
    }
   ],
   "source": [
    "attacks_by_city_success_df = terrorism_df.groupby('iyear')['success'].sum()\n",
    "attacks_by_city_success_df = pd.DataFrame(attacks_by_city_success_df)\n",
    "attacks_by_city_success_df"
   ]
  },
  {
   "cell_type": "markdown",
   "id": "02eff9a6",
   "metadata": {},
   "source": [
    "# All Attacks vs. Successful attacks each year"
   ]
  },
  {
   "cell_type": "code",
   "execution_count": 118,
   "id": "ddc8b700",
   "metadata": {},
   "outputs": [
    {
     "data": {
      "text/plain": [
       "[<matplotlib.lines.Line2D at 0x22e5c2b8790>]"
      ]
     },
     "execution_count": 118,
     "metadata": {},
     "output_type": "execute_result"
    },
    {
     "data": {
      "image/png": "[encoded data removed]",
      "text/plain": [
       "<Figure size 432x288 with 1 Axes>"
      ]
     },
     "metadata": {
      "needs_background": "light"
     },
     "output_type": "display_data"
    }
   ],
   "source": [
    "fig, ax = plt.subplots()\n",
    "ax.plot(attacks_by_year_df.index, attacks_by_year_df['attack each year'])\n",
    "ax.plot(attacks_by_city_success_df.index, attacks_by_city_success_df['success'])"
   ]
  }
 ],
 "metadata": {
  "kernelspec": {
   "display_name": "Python 3 (ipykernel)",
   "language": "python",
   "name": "python3"
  },
  "language_info": {
   "codemirror_mode": {
    "name": "ipython",
    "version": 3
   },
   "file_extension": ".py",
   "mimetype": "text/x-python",
   "name": "python",
   "nbconvert_exporter": "python",
   "pygments_lexer": "ipython3",
   "version": "3.9.6"
  }
 },
 "nbformat": 4,
 "nbformat_minor": 5
}
